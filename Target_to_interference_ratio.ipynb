{
 "cells": [
  {
   "cell_type": "code",
   "execution_count": 27,
   "metadata": {},
   "outputs": [
    {
     "name": "stdout",
     "output_type": "stream",
     "text": [
      "[-0.15768423]\n",
      "[0.08496831]\n",
      "power =  0.024864315327398506\n",
      "5.370625459432137\n",
      "TIR =  10.0\n"
     ]
    }
   ],
   "source": [
    "import numpy as np\n",
    "mu, sigma = 0, 1 # mean and standard deviation\n",
    "target = np.random.normal(mu, sigma, 1)\n",
    "interference = np.random.normal(mu, sigma, 1)\n",
    "\n",
    "print(target)\n",
    "print(interference)\n",
    "\n",
    "# the function to compute the power of a signal\n",
    "def signal_power(x):\n",
    "    return np.dot(x,x)/len(x)\n",
    "\n",
    "print(\"power = \",signal_power(target))\n",
    "print(Target_to_Interference_ratio(target, interference))\n",
    "\n",
    "# the function  to compute the target to interference ratio (TIR) in dB\n",
    "def Target_to_Interference_ratio(target,interference):\n",
    "    return 10*np.log10(signal_power(target)/signal_power(interference)) \n",
    "\n",
    "# assume we want the new TIR to be 10, i.e. :\n",
    "\n",
    "New_TIR = 10\n",
    "\n",
    "# here we compute the factor we need to multiply the signal to get a TIR equal to New_TIR\n",
    "factor = 10**((New_TIR - Target_to_Interference_ratio(target,interference))/20)\n",
    "\n",
    "# multiply the signal to  the factor obtained from the above\n",
    "target = factor* target\n",
    "\n",
    "# the new TIR is now New_TIR\n",
    "print(\"TIR = \", Target_to_Interference_ratio(target,interference))"
   ]
  },
  {
   "cell_type": "code",
   "execution_count": null,
   "metadata": {},
   "outputs": [],
   "source": []
  },
  {
   "cell_type": "code",
   "execution_count": null,
   "metadata": {},
   "outputs": [],
   "source": []
  },
  {
   "cell_type": "code",
   "execution_count": null,
   "metadata": {
    "collapsed": true
   },
   "outputs": [],
   "source": []
  },
  {
   "cell_type": "code",
   "execution_count": null,
   "metadata": {
    "collapsed": true
   },
   "outputs": [],
   "source": []
  },
  {
   "cell_type": "code",
   "execution_count": null,
   "metadata": {
    "collapsed": true
   },
   "outputs": [],
   "source": []
  }
 ],
 "metadata": {
  "kernelspec": {
   "display_name": "Python 3",
   "language": "python",
   "name": "python3"
  },
  "language_info": {
   "codemirror_mode": {
    "name": "ipython",
    "version": 3
   },
   "file_extension": ".py",
   "mimetype": "text/x-python",
   "name": "python",
   "nbconvert_exporter": "python",
   "pygments_lexer": "ipython3",
   "version": "3.6.8"
  }
 },
 "nbformat": 4,
 "nbformat_minor": 2
}
