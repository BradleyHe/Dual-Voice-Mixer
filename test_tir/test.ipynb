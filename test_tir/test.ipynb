{
 "cells": [
  {
   "cell_type": "code",
   "execution_count": 1,
   "metadata": {},
   "outputs": [
    {
     "name": "stderr",
     "output_type": "stream",
     "text": [
      "output_file: new.wav already exists and will be overwritten on build\n"
     ]
    },
    {
     "name": "stdout",
     "output_type": "stream",
     "text": [
      "0.017148\n",
      "0.013295\n",
      "TIR = 2.2105026634201845\n",
      "0.017148\n",
      "0.006084\n",
      "TIR = 9.000485389152685\n"
     ]
    }
   ],
   "source": [
    "import numpy as np\n",
    "import sox\n",
    "\n",
    "def calculate_tir(target, interference):\n",
    "    return 10 * np.log10(target ** 2 / interference ** 2) \n",
    "\n",
    "def tir_factor(ratio, target, interference):\n",
    "    return 10 ** ((ratio - calculate_tir(target, interference)) / 20)\n",
    "\n",
    "tfn = sox.Transformer()\n",
    "\n",
    "# get rms from the two audio files\n",
    "mrs1 = float(sox.file_info.stat('SI2023.wav')['RMS     amplitude'])\n",
    "mrs2 = float(sox.file_info.stat('SI2149.wav')['RMS     amplitude'])\n",
    "\n",
    "print(mrs1)\n",
    "print(mrs2)\n",
    "\n",
    "print('TIR = {}'.format(calculate_tir(mrs1, mrs2)))\n",
    "\n",
    "# adjust 2nd audio file to create TIR of 9\n",
    "tfn.vol(1 / tir_factor(9, mrs1, mrs2))\n",
    "tfn.build('SI2149.wav', 'new.wav')\n",
    "\n",
    "mrs2 = float(sox.file_info.stat('new.wav')['RMS     amplitude'])\n",
    "\n",
    "print(mrs1)\n",
    "print(mrs2)\n",
    "\n",
    "print('TIR = {}'.format(calculate_tir(mrs1, mrs2)))"
   ]
  },
  {
   "cell_type": "code",
   "execution_count": null,
   "metadata": {},
   "outputs": [],
   "source": []
  }
 ],
 "metadata": {
  "anaconda-cloud": {},
  "kernelspec": {
   "display_name": "Python 3",
   "language": "python",
   "name": "python3"
  },
  "language_info": {
   "codemirror_mode": {
    "name": "ipython",
    "version": 3
   },
   "file_extension": ".py",
   "mimetype": "text/x-python",
   "name": "python",
   "nbconvert_exporter": "python",
   "pygments_lexer": "ipython3",
   "version": "3.6.8"
  }
 },
 "nbformat": 4,
 "nbformat_minor": 1
}
